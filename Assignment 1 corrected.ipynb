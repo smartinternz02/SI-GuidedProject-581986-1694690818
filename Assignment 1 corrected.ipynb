{
 "cells": [
  {
   "cell_type": "markdown",
   "id": "b906b771",
   "metadata": {},
   "source": [
    "## Name : Gyaneshwer Jha\n",
    "## Reg : 21BCT0186\n",
    "\n"
   ]
  },
  {
   "cell_type": "code",
   "execution_count": 1,
   "id": "2cd4b5f1",
   "metadata": {},
   "outputs": [],
   "source": [
    "import numpy as np\n",
    "import pandas as pd"
   ]
  },
  {
   "cell_type": "code",
   "execution_count": 2,
   "id": "4713b75b",
   "metadata": {},
   "outputs": [],
   "source": [
    "data=np.random.rand(4,4)"
   ]
  },
  {
   "cell_type": "code",
   "execution_count": 3,
   "id": "b2c948ca",
   "metadata": {},
   "outputs": [
    {
     "data": {
      "text/html": [
       "<div>\n",
       "<style scoped>\n",
       "    .dataframe tbody tr th:only-of-type {\n",
       "        vertical-align: middle;\n",
       "    }\n",
       "\n",
       "    .dataframe tbody tr th {\n",
       "        vertical-align: top;\n",
       "    }\n",
       "\n",
       "    .dataframe thead th {\n",
       "        text-align: right;\n",
       "    }\n",
       "</style>\n",
       "<table border=\"1\" class=\"dataframe\">\n",
       "  <thead>\n",
       "    <tr style=\"text-align: right;\">\n",
       "      <th></th>\n",
       "      <th>f1</th>\n",
       "      <th>f2</th>\n",
       "      <th>f3</th>\n",
       "      <th>f4</th>\n",
       "    </tr>\n",
       "  </thead>\n",
       "  <tbody>\n",
       "    <tr>\n",
       "      <th>0</th>\n",
       "      <td>0.260111</td>\n",
       "      <td>0.786379</td>\n",
       "      <td>0.135791</td>\n",
       "      <td>0.068121</td>\n",
       "    </tr>\n",
       "    <tr>\n",
       "      <th>1</th>\n",
       "      <td>0.150185</td>\n",
       "      <td>0.617682</td>\n",
       "      <td>0.732790</td>\n",
       "      <td>0.270176</td>\n",
       "    </tr>\n",
       "    <tr>\n",
       "      <th>2</th>\n",
       "      <td>0.548434</td>\n",
       "      <td>0.170675</td>\n",
       "      <td>0.624178</td>\n",
       "      <td>0.710322</td>\n",
       "    </tr>\n",
       "    <tr>\n",
       "      <th>3</th>\n",
       "      <td>0.578012</td>\n",
       "      <td>0.349257</td>\n",
       "      <td>0.031776</td>\n",
       "      <td>0.971193</td>\n",
       "    </tr>\n",
       "  </tbody>\n",
       "</table>\n",
       "</div>"
      ],
      "text/plain": [
       "         f1        f2        f3        f4\n",
       "0  0.260111  0.786379  0.135791  0.068121\n",
       "1  0.150185  0.617682  0.732790  0.270176\n",
       "2  0.548434  0.170675  0.624178  0.710322\n",
       "3  0.578012  0.349257  0.031776  0.971193"
      ]
     },
     "execution_count": 3,
     "metadata": {},
     "output_type": "execute_result"
    }
   ],
   "source": [
    "df = pd.DataFrame(data,columns=['f1','f2','f3','f4'])\n",
    "df"
   ]
  },
  {
   "cell_type": "markdown",
   "id": "e02cf45f",
   "metadata": {},
   "source": [
    "# Rename the task \n"
   ]
  },
  {
   "cell_type": "code",
   "execution_count": 4,
   "id": "53936f8d",
   "metadata": {},
   "outputs": [
    {
     "data": {
      "text/html": [
       "<div>\n",
       "<style scoped>\n",
       "    .dataframe tbody tr th:only-of-type {\n",
       "        vertical-align: middle;\n",
       "    }\n",
       "\n",
       "    .dataframe tbody tr th {\n",
       "        vertical-align: top;\n",
       "    }\n",
       "\n",
       "    .dataframe thead th {\n",
       "        text-align: right;\n",
       "    }\n",
       "</style>\n",
       "<table border=\"1\" class=\"dataframe\">\n",
       "  <thead>\n",
       "    <tr style=\"text-align: right;\">\n",
       "      <th></th>\n",
       "      <th>Random value 1</th>\n",
       "      <th>Random value 2</th>\n",
       "      <th>Random value 3</th>\n",
       "      <th>Random value 4</th>\n",
       "    </tr>\n",
       "  </thead>\n",
       "  <tbody>\n",
       "    <tr>\n",
       "      <th>0</th>\n",
       "      <td>0.260111</td>\n",
       "      <td>0.786379</td>\n",
       "      <td>0.135791</td>\n",
       "      <td>0.068121</td>\n",
       "    </tr>\n",
       "    <tr>\n",
       "      <th>1</th>\n",
       "      <td>0.150185</td>\n",
       "      <td>0.617682</td>\n",
       "      <td>0.732790</td>\n",
       "      <td>0.270176</td>\n",
       "    </tr>\n",
       "    <tr>\n",
       "      <th>2</th>\n",
       "      <td>0.548434</td>\n",
       "      <td>0.170675</td>\n",
       "      <td>0.624178</td>\n",
       "      <td>0.710322</td>\n",
       "    </tr>\n",
       "    <tr>\n",
       "      <th>3</th>\n",
       "      <td>0.578012</td>\n",
       "      <td>0.349257</td>\n",
       "      <td>0.031776</td>\n",
       "      <td>0.971193</td>\n",
       "    </tr>\n",
       "  </tbody>\n",
       "</table>\n",
       "</div>"
      ],
      "text/plain": [
       "   Random value 1  Random value 2  Random value 3  Random value 4\n",
       "0        0.260111        0.786379        0.135791        0.068121\n",
       "1        0.150185        0.617682        0.732790        0.270176\n",
       "2        0.548434        0.170675        0.624178        0.710322\n",
       "3        0.578012        0.349257        0.031776        0.971193"
      ]
     },
     "execution_count": 4,
     "metadata": {},
     "output_type": "execute_result"
    }
   ],
   "source": [
    "df.rename(columns={'f1':'Random value 1','f2':'Random value 2','f3':'Random value 3','f4':'Random value 4'},inplace = True)\n",
    "df"
   ]
  },
  {
   "cell_type": "markdown",
   "id": "ebb5de2d",
   "metadata": {},
   "source": [
    "## Find the descriptive statistics of the 'df' dataframe."
   ]
  },
  {
   "cell_type": "code",
   "execution_count": 5,
   "id": "cb9f4aa6",
   "metadata": {},
   "outputs": [
    {
     "data": {
      "text/html": [
       "<div>\n",
       "<style scoped>\n",
       "    .dataframe tbody tr th:only-of-type {\n",
       "        vertical-align: middle;\n",
       "    }\n",
       "\n",
       "    .dataframe tbody tr th {\n",
       "        vertical-align: top;\n",
       "    }\n",
       "\n",
       "    .dataframe thead th {\n",
       "        text-align: right;\n",
       "    }\n",
       "</style>\n",
       "<table border=\"1\" class=\"dataframe\">\n",
       "  <thead>\n",
       "    <tr style=\"text-align: right;\">\n",
       "      <th></th>\n",
       "      <th>Random value 1</th>\n",
       "      <th>Random value 2</th>\n",
       "      <th>Random value 3</th>\n",
       "      <th>Random value 4</th>\n",
       "    </tr>\n",
       "  </thead>\n",
       "  <tbody>\n",
       "    <tr>\n",
       "      <th>count</th>\n",
       "      <td>4.000000</td>\n",
       "      <td>4.000000</td>\n",
       "      <td>4.000000</td>\n",
       "      <td>4.000000</td>\n",
       "    </tr>\n",
       "    <tr>\n",
       "      <th>mean</th>\n",
       "      <td>0.384186</td>\n",
       "      <td>0.480998</td>\n",
       "      <td>0.381134</td>\n",
       "      <td>0.504953</td>\n",
       "    </tr>\n",
       "    <tr>\n",
       "      <th>std</th>\n",
       "      <td>0.211894</td>\n",
       "      <td>0.274224</td>\n",
       "      <td>0.348796</td>\n",
       "      <td>0.410487</td>\n",
       "    </tr>\n",
       "    <tr>\n",
       "      <th>min</th>\n",
       "      <td>0.150185</td>\n",
       "      <td>0.170675</td>\n",
       "      <td>0.031776</td>\n",
       "      <td>0.068121</td>\n",
       "    </tr>\n",
       "    <tr>\n",
       "      <th>25%</th>\n",
       "      <td>0.232630</td>\n",
       "      <td>0.304612</td>\n",
       "      <td>0.109787</td>\n",
       "      <td>0.219662</td>\n",
       "    </tr>\n",
       "    <tr>\n",
       "      <th>50%</th>\n",
       "      <td>0.404273</td>\n",
       "      <td>0.483470</td>\n",
       "      <td>0.379984</td>\n",
       "      <td>0.490249</td>\n",
       "    </tr>\n",
       "    <tr>\n",
       "      <th>75%</th>\n",
       "      <td>0.555829</td>\n",
       "      <td>0.659856</td>\n",
       "      <td>0.651331</td>\n",
       "      <td>0.775539</td>\n",
       "    </tr>\n",
       "    <tr>\n",
       "      <th>max</th>\n",
       "      <td>0.578012</td>\n",
       "      <td>0.786379</td>\n",
       "      <td>0.732790</td>\n",
       "      <td>0.971193</td>\n",
       "    </tr>\n",
       "  </tbody>\n",
       "</table>\n",
       "</div>"
      ],
      "text/plain": [
       "       Random value 1  Random value 2  Random value 3  Random value 4\n",
       "count        4.000000        4.000000        4.000000        4.000000\n",
       "mean         0.384186        0.480998        0.381134        0.504953\n",
       "std          0.211894        0.274224        0.348796        0.410487\n",
       "min          0.150185        0.170675        0.031776        0.068121\n",
       "25%          0.232630        0.304612        0.109787        0.219662\n",
       "50%          0.404273        0.483470        0.379984        0.490249\n",
       "75%          0.555829        0.659856        0.651331        0.775539\n",
       "max          0.578012        0.786379        0.732790        0.971193"
      ]
     },
     "execution_count": 5,
     "metadata": {},
     "output_type": "execute_result"
    }
   ],
   "source": [
    "df.describe()"
   ]
  },
  {
   "cell_type": "markdown",
   "id": "7c70ed73",
   "metadata": {},
   "source": [
    "## Check for the null values in 'df' and find the data type of the columns.\n"
   ]
  },
  {
   "cell_type": "code",
   "execution_count": 6,
   "id": "ef6681ad",
   "metadata": {},
   "outputs": [
    {
     "data": {
      "text/plain": [
       "Random value 1    False\n",
       "Random value 2    False\n",
       "Random value 3    False\n",
       "Random value 4    False\n",
       "dtype: bool"
      ]
     },
     "execution_count": 6,
     "metadata": {},
     "output_type": "execute_result"
    }
   ],
   "source": [
    "df.isnull().any()"
   ]
  },
  {
   "cell_type": "code",
   "execution_count": 7,
   "id": "570a0a76",
   "metadata": {},
   "outputs": [
    {
     "data": {
      "text/plain": [
       "pandas.core.series.Series"
      ]
     },
     "execution_count": 7,
     "metadata": {},
     "output_type": "execute_result"
    }
   ],
   "source": [
    "type(df.isnull().any())"
   ]
  },
  {
   "cell_type": "markdown",
   "id": "0363df99",
   "metadata": {},
   "source": [
    "## Display the 'Random value 2' & 'Random value 3' columns with location method and index location method"
   ]
  },
  {
   "cell_type": "code",
   "execution_count": 8,
   "id": "82f8a20b",
   "metadata": {},
   "outputs": [
    {
     "data": {
      "text/plain": [
       "0    0.786379\n",
       "1    0.617682\n",
       "2    0.170675\n",
       "3    0.349257\n",
       "Name: Random value 2, dtype: float64"
      ]
     },
     "execution_count": 8,
     "metadata": {},
     "output_type": "execute_result"
    }
   ],
   "source": [
    "df['Random value 2']"
   ]
  },
  {
   "cell_type": "code",
   "execution_count": 9,
   "id": "84564d0b",
   "metadata": {},
   "outputs": [
    {
     "data": {
      "text/plain": [
       "0    0.135791\n",
       "1    0.732790\n",
       "2    0.624178\n",
       "3    0.031776\n",
       "Name: Random value 3, dtype: float64"
      ]
     },
     "execution_count": 9,
     "metadata": {},
     "output_type": "execute_result"
    }
   ],
   "source": [
    "df['Random value 3']"
   ]
  },
  {
   "cell_type": "code",
   "execution_count": 10,
   "id": "7f952d82",
   "metadata": {},
   "outputs": [
    {
     "data": {
      "text/html": [
       "<div>\n",
       "<style scoped>\n",
       "    .dataframe tbody tr th:only-of-type {\n",
       "        vertical-align: middle;\n",
       "    }\n",
       "\n",
       "    .dataframe tbody tr th {\n",
       "        vertical-align: top;\n",
       "    }\n",
       "\n",
       "    .dataframe thead th {\n",
       "        text-align: right;\n",
       "    }\n",
       "</style>\n",
       "<table border=\"1\" class=\"dataframe\">\n",
       "  <thead>\n",
       "    <tr style=\"text-align: right;\">\n",
       "      <th></th>\n",
       "      <th>Random value 2</th>\n",
       "      <th>Random value 3</th>\n",
       "    </tr>\n",
       "  </thead>\n",
       "  <tbody>\n",
       "    <tr>\n",
       "      <th>0</th>\n",
       "      <td>0.786379</td>\n",
       "      <td>0.135791</td>\n",
       "    </tr>\n",
       "    <tr>\n",
       "      <th>1</th>\n",
       "      <td>0.617682</td>\n",
       "      <td>0.732790</td>\n",
       "    </tr>\n",
       "    <tr>\n",
       "      <th>2</th>\n",
       "      <td>0.170675</td>\n",
       "      <td>0.624178</td>\n",
       "    </tr>\n",
       "    <tr>\n",
       "      <th>3</th>\n",
       "      <td>0.349257</td>\n",
       "      <td>0.031776</td>\n",
       "    </tr>\n",
       "  </tbody>\n",
       "</table>\n",
       "</div>"
      ],
      "text/plain": [
       "   Random value 2  Random value 3\n",
       "0        0.786379        0.135791\n",
       "1        0.617682        0.732790\n",
       "2        0.170675        0.624178\n",
       "3        0.349257        0.031776"
      ]
     },
     "execution_count": 10,
     "metadata": {},
     "output_type": "execute_result"
    }
   ],
   "source": [
    "df.loc[:,['Random value 2','Random value 3']]"
   ]
  },
  {
   "cell_type": "code",
   "execution_count": 11,
   "id": "9bc69638",
   "metadata": {},
   "outputs": [
    {
     "data": {
      "text/html": [
       "<div>\n",
       "<style scoped>\n",
       "    .dataframe tbody tr th:only-of-type {\n",
       "        vertical-align: middle;\n",
       "    }\n",
       "\n",
       "    .dataframe tbody tr th {\n",
       "        vertical-align: top;\n",
       "    }\n",
       "\n",
       "    .dataframe thead th {\n",
       "        text-align: right;\n",
       "    }\n",
       "</style>\n",
       "<table border=\"1\" class=\"dataframe\">\n",
       "  <thead>\n",
       "    <tr style=\"text-align: right;\">\n",
       "      <th></th>\n",
       "      <th>Random value 2</th>\n",
       "      <th>Random value 3</th>\n",
       "    </tr>\n",
       "  </thead>\n",
       "  <tbody>\n",
       "    <tr>\n",
       "      <th>0</th>\n",
       "      <td>0.786379</td>\n",
       "      <td>0.135791</td>\n",
       "    </tr>\n",
       "    <tr>\n",
       "      <th>1</th>\n",
       "      <td>0.617682</td>\n",
       "      <td>0.732790</td>\n",
       "    </tr>\n",
       "    <tr>\n",
       "      <th>2</th>\n",
       "      <td>0.170675</td>\n",
       "      <td>0.624178</td>\n",
       "    </tr>\n",
       "    <tr>\n",
       "      <th>3</th>\n",
       "      <td>0.349257</td>\n",
       "      <td>0.031776</td>\n",
       "    </tr>\n",
       "  </tbody>\n",
       "</table>\n",
       "</div>"
      ],
      "text/plain": [
       "   Random value 2  Random value 3\n",
       "0        0.786379        0.135791\n",
       "1        0.617682        0.732790\n",
       "2        0.170675        0.624178\n",
       "3        0.349257        0.031776"
      ]
     },
     "execution_count": 11,
     "metadata": {},
     "output_type": "execute_result"
    }
   ],
   "source": [
    "df.iloc[:,[1,2]]"
   ]
  },
  {
   "cell_type": "code",
   "execution_count": null,
   "id": "79cbc8a1",
   "metadata": {},
   "outputs": [],
   "source": []
  },
  {
   "cell_type": "code",
   "execution_count": null,
   "id": "d28a531e",
   "metadata": {},
   "outputs": [],
   "source": []
  },
  {
   "cell_type": "code",
   "execution_count": null,
   "id": "db66d777",
   "metadata": {},
   "outputs": [],
   "source": []
  }
 ],
 "metadata": {
  "kernelspec": {
   "display_name": "Python 3",
   "language": "python",
   "name": "python3"
  },
  "language_info": {
   "codemirror_mode": {
    "name": "ipython",
    "version": 3
   },
   "file_extension": ".py",
   "mimetype": "text/x-python",
   "name": "python",
   "nbconvert_exporter": "python",
   "pygments_lexer": "ipython3",
   "version": "3.8.8"
  }
 },
 "nbformat": 4,
 "nbformat_minor": 5
}
